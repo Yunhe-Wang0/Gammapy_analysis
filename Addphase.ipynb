{
 "cells": [
  {
   "cell_type": "code",
   "execution_count": 1,
   "id": "bc348d38-3715-4641-a992-129ef4a9fcd9",
   "metadata": {},
   "outputs": [
    {
     "name": "stdout",
     "output_type": "stream",
     "text": [
      "Using uproot:  5.3.10\n"
     ]
    }
   ],
   "source": [
    "import Reader3 as Reader\n",
    "from astropy.table import Table, Column\n",
    "import numpy as np\n",
    "import os\n",
    "from astropy.io import fits"
   ]
  },
  {
   "cell_type": "markdown",
   "id": "0b12b64d-27eb-4eb6-ad31-e20ecf7d6003",
   "metadata": {},
   "source": [
    "# Add pulsar phase to DL3 FITS files\n",
    "\n",
    "by matching 'EVENT ID' with fully analyzed ROOT files containing phase information"
   ]
  },
  {
   "cell_type": "code",
   "execution_count": 2,
   "id": "77eaef47-84c8-48aa-92ee-a643f809a222",
   "metadata": {},
   "outputs": [],
   "source": [
    "fits_dir = '.' # Path to the directory containing DL3 FITS files\n",
    "root_dir = '../data/all_root_data/' # Path to the directory containing melibea ROOT files with phase information\n",
    "\n",
    "fits_files = [filename for filename in os.listdir(fits_dir) if filename.endswith('.fits')]\n",
    "root_files = [filename for filename in os.listdir(root_dir) if filename.endswith('.root')]"
   ]
  },
  {
   "cell_type": "code",
   "execution_count": 3,
   "id": "8fbbcf8b-ebc4-4d3b-822b-9d6a1a4c113c",
   "metadata": {},
   "outputs": [],
   "source": [
    "def addphase(root_path, fits_path):\n",
    "    root = Reader.Reader(root_path,{'daqnum':'MRawEvtHeader_2.fStereoEvtNumber','phase':'MPhase2_1.fPhase'})\n",
    "\n",
    "    with fits.open(fits_path, mode='update') as hdulist:\n",
    "        hdu_events = hdulist[1]\n",
    "        fits_table = Table(hdu_events.data)\n",
    "\n",
    "        if 'PHASE' in fits_table.colnames:\n",
    "            print(f\"Skipping fits file: {fits_path}. 'PHASE' column already exists.\")\n",
    "            hdulist.close()\n",
    "            return\n",
    "        \n",
    "        id_to_val = {row['daqnum']: row['phase'] for row in root}\n",
    "\n",
    "        phase_fits = np.full(len(fits_table), np.nan)\n",
    "\n",
    "        for i, id in enumerate(fits_table['EVENT_ID']):\n",
    "            if id in root['daqnum']:\n",
    "                phase_fits[i] = id_to_val[id]\n",
    "\n",
    "        new_col = fits.Column(name='PHASE', format='D', unit='', array=phase_fits)\n",
    "        orig_cols = hdulist[1].data.columns\n",
    "        combined = fits.BinTableHDU.from_columns(orig_cols + new_col)\n",
    "\n",
    "        hdulist[1].data = combined.data\n",
    "        hdulist.flush()"
   ]
  },
  {
   "cell_type": "code",
   "execution_count": null,
   "id": "06e581d6-c0ba-4ad1-b730-129f8652970d",
   "metadata": {
    "scrolled": true
   },
   "outputs": [],
   "source": [
    "for fits_file in fits_files:\n",
    "    if fits_file.endswith('.fits'):\n",
    "        run = fits_file.split('_')[1]\n",
    "        fits_path = os.path.join(fits_dir, fits_file)\n",
    "        \n",
    "        print(f\"Processing fits file: {fits_path}\")\n",
    "\n",
    "        # search for corresponding root files\n",
    "        found_root = False\n",
    "        for root_file in root_files:\n",
    "            root_run = root_file.split('_')[1].split('.')[0]\n",
    "        \n",
    "            if root_run == run:\n",
    "                root_path = os.path.join(root_dir, root_file)\n",
    "                found_root = True\n",
    "                break\n",
    "    \n",
    "        if found_root:\n",
    "            try:\n",
    "                print(f\"Corresponding root file: {root_path}\")\n",
    "                \n",
    "                addphase(root_path, fits_path)\n",
    "                \n",
    "                print(\"Processing complete.\", '\\n')\n",
    "                \n",
    "            except Exception as e:\n",
    "                print(f\"Error processing files {fits_path}, {root_file}: {e}\")\n",
    "\n",
    "        else:\n",
    "            print(f\"No corresponding root file found for fits file: {fits_file}\", '\\n')"
   ]
  },
  {
   "cell_type": "code",
   "execution_count": null,
   "id": "e3102a3b-1b7f-42c3-8080-638d25b40962",
   "metadata": {},
   "outputs": [],
   "source": []
  }
 ],
 "metadata": {
  "kernelspec": {
   "display_name": "Python 3 (ipykernel)",
   "language": "python",
   "name": "python3"
  },
  "language_info": {
   "codemirror_mode": {
    "name": "ipython",
    "version": 3
   },
   "file_extension": ".py",
   "mimetype": "text/x-python",
   "name": "python",
   "nbconvert_exporter": "python",
   "pygments_lexer": "ipython3",
   "version": "3.9.18"
  }
 },
 "nbformat": 4,
 "nbformat_minor": 5
}
